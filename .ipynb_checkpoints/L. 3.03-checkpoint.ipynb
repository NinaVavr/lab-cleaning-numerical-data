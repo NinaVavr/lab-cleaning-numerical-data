{
 "cells": [
  {
   "cell_type": "code",
   "execution_count": 1,
   "metadata": {
    "id": "azEpX2gsNLRG"
   },
   "outputs": [],
   "source": [
    "import pandas as pd"
   ]
  },
  {
   "cell_type": "code",
   "execution_count": 2,
   "metadata": {
    "id": "Y_BH-cJniWyh"
   },
   "outputs": [],
   "source": [
    "# reading a csv table into a variable\n",
    "superstore = pd.read_csv(\"Sample - EU Superstore.csv\")\n",
    "# reading the excel table into a variable\n",
    "orders = pd.read_excel(\"orders.xlsx\")"
   ]
  },
  {
   "cell_type": "code",
   "execution_count": null,
   "metadata": {
    "colab": {
     "base_uri": "https://localhost:8080/",
     "height": 408
    },
    "executionInfo": {
     "elapsed": 1497,
     "status": "ok",
     "timestamp": 1617553240196,
     "user": {
      "displayName": "David Henriques",
      "photoUrl": "",
      "userId": "14332050621134291491"
     },
     "user_tz": -60
    },
    "id": "EpS7SsMuSaHy",
    "outputId": "2d086df2-ff79-47e8-bcd8-9bcbeef8a60b"
   },
   "outputs": [],
   "source": [
    "display(superstore.head())\n",
    "superstore.tail()"
   ]
  },
  {
   "cell_type": "code",
   "execution_count": null,
   "metadata": {},
   "outputs": [],
   "source": [
    "superstore"
   ]
  },
  {
   "cell_type": "markdown",
   "metadata": {
    "id": "vOYnzEMf0bMt"
   },
   "source": [
    "# Slicing"
   ]
  },
  {
   "cell_type": "code",
   "execution_count": null,
   "metadata": {
    "colab": {
     "base_uri": "https://localhost:8080/",
     "height": 181
    },
    "executionInfo": {
     "elapsed": 368,
     "status": "error",
     "timestamp": 1635516083345,
     "user": {
      "displayName": "Jan Molendijk",
      "photoUrl": "https://lh3.googleusercontent.com/a/default-user=s64",
      "userId": "00665875236133738524"
     },
     "user_tz": -120
    },
    "id": "ui_b0RqNi6Dl",
    "outputId": "99e60fdd-b259-4ca1-9d94-2a9c84f7a30b"
   },
   "outputs": [],
   "source": [
    "# shows the first 5 rows of the table\n",
    "superstore.head()"
   ]
  },
  {
   "cell_type": "code",
   "execution_count": null,
   "metadata": {
    "executionInfo": {
     "elapsed": 7,
     "status": "aborted",
     "timestamp": 1635516083340,
     "user": {
      "displayName": "Jan Molendijk",
      "photoUrl": "https://lh3.googleusercontent.com/a/default-user=s64",
      "userId": "00665875236133738524"
     },
     "user_tz": -120
    },
    "id": "Fg7Be9lvmFbn"
   },
   "outputs": [],
   "source": [
    "#shows the last 10 rows of the table\n",
    "superstore.tail(10)"
   ]
  },
  {
   "cell_type": "code",
   "execution_count": null,
   "metadata": {
    "executionInfo": {
     "elapsed": 8,
     "status": "aborted",
     "timestamp": 1635516083342,
     "user": {
      "displayName": "Jan Molendijk",
      "photoUrl": "https://lh3.googleusercontent.com/a/default-user=s64",
      "userId": "00665875236133738524"
     },
     "user_tz": -120
    },
    "id": "aw0vVGvwmOjK"
   },
   "outputs": [],
   "source": [
    "# this returns an iterable columns object\n",
    "superstore.columns\n",
    "list(superstore.columns)\n",
    "\n",
    "for col in superstore.columns:\n",
    "     # do something with a column name;\n",
    "    print(col)\n"
   ]
  },
  {
   "cell_type": "code",
   "execution_count": null,
   "metadata": {
    "executionInfo": {
     "elapsed": 9,
     "status": "aborted",
     "timestamp": 1635516083343,
     "user": {
      "displayName": "Jan Molendijk",
      "photoUrl": "https://lh3.googleusercontent.com/a/default-user=s64",
      "userId": "00665875236133738524"
     },
     "user_tz": -120
    },
    "id": "LQyu8rVWmXkS"
   },
   "outputs": [],
   "source": [
    "%%time\n",
    "# this returns an iterable index object\n",
    "superstore.index\n",
    "\n",
    "for rownum in superstore.index:\n",
    "    # do something with a row\n",
    "    print(rownum)\n",
    "\n",
    "# # not the best way to iterate through all the rows. "
   ]
  },
  {
   "cell_type": "code",
   "execution_count": null,
   "metadata": {},
   "outputs": [],
   "source": [
    "superstore.head()"
   ]
  },
  {
   "cell_type": "code",
   "execution_count": null,
   "metadata": {},
   "outputs": [],
   "source": [
    "%%time\n",
    "# vector operations are the fastest way to calculate someting for each row\n",
    "\n",
    "superstore['unit price'] = superstore['Sales']/superstore['Quantity']\n",
    "\n",
    "# other alternatives are:\n",
    "# df['col'] = list(map(func, df['col']))\n",
    "# df['col'] = df['col'].apply(func)\n",
    "# for row in df.iterrows():\n",
    "# for row in df.itertuples():\n"
   ]
  },
  {
   "cell_type": "code",
   "execution_count": null,
   "metadata": {},
   "outputs": [],
   "source": [
    "superstore.head()"
   ]
  },
  {
   "cell_type": "code",
   "execution_count": null,
   "metadata": {
    "executionInfo": {
     "elapsed": 10,
     "status": "aborted",
     "timestamp": 1635516083344,
     "user": {
      "displayName": "Jan Molendijk",
      "photoUrl": "https://lh3.googleusercontent.com/a/default-user=s64",
      "userId": "00665875236133738524"
     },
     "user_tz": -120
    },
    "id": "NlusCRYbmb1I"
   },
   "outputs": [],
   "source": [
    "# how can I slice one or more columns\n",
    "\n",
    "# slicing one column\n",
    "superstore[\"City\"]"
   ]
  },
  {
   "cell_type": "code",
   "execution_count": null,
   "metadata": {
    "executionInfo": {
     "elapsed": 9,
     "status": "aborted",
     "timestamp": 1635516083344,
     "user": {
      "displayName": "Jan Molendijk",
      "photoUrl": "https://lh3.googleusercontent.com/a/default-user=s64",
      "userId": "00665875236133738524"
     },
     "user_tz": -120
    },
    "id": "YRS-AQo0muA-"
   },
   "outputs": [],
   "source": [
    "#Slicing multiple columns\n",
    "\n",
    "superstore[['City', \"Country\",'Region']]\n",
    "# also useful for reordering columns: superstore = superstore[['new column 1', 'new column 2', ...., ''new column last]]"
   ]
  },
  {
   "cell_type": "code",
   "execution_count": null,
   "metadata": {},
   "outputs": [],
   "source": [
    "#Slicing one column as a DataFrame, in stead of a Series\n",
    "superstore[[\"City\"]]"
   ]
  },
  {
   "cell_type": "markdown",
   "metadata": {
    "id": "KXAZMbZq0bM8"
   },
   "source": [
    "# Basic exploration & computation"
   ]
  },
  {
   "cell_type": "code",
   "execution_count": null,
   "metadata": {
    "colab": {
     "base_uri": "https://localhost:8080/"
    },
    "id": "dCDcoS-Fnfro",
    "outputId": "dd55d845-52e3-47f6-ec2d-bbb30cbdb2df"
   },
   "outputs": [],
   "source": [
    "#some useful column methods\n",
    "# unique method of pandas \n",
    "superstore['Country'].nunique()  # COUNT(DISTINCT Country)\n",
    "superstore['Country'].unique()   # DISTINCT Country\n",
    "superstore['Country'].value_counts() # COUNT(*) + GROUP BY Country\n",
    "superstore['Country'].value_counts(dropna=False)\n",
    "superstore['Country'].isna().sum()\n"
   ]
  },
  {
   "cell_type": "code",
   "execution_count": null,
   "metadata": {
    "colab": {
     "base_uri": "https://localhost:8080/",
     "height": 69
    },
    "id": "j89w7FPAnqzi",
    "outputId": "edf94318-484c-47ac-e439-ecd1cf602a10"
   },
   "outputs": [],
   "source": [
    "#import numpy as np\n",
    "# some useful column aggregations\n",
    "\n",
    "# the sale with the highest value?\n",
    "superstore['Sales'].max()  # SELECT MAX(Sales)\n",
    "\n",
    "# what's the average sales and profit value?\n",
    "superstore[['Sales','Profit']].mean() # SELECT AVG(Sales), AVG(Profit)\n"
   ]
  },
  {
   "cell_type": "code",
   "execution_count": null,
   "metadata": {
    "colab": {
     "base_uri": "https://localhost:8080/",
     "height": 377
    },
    "id": "sBspq32Soi2d",
    "outputId": "c776be50-08bc-4825-e6b2-77eee756cf9b"
   },
   "outputs": [],
   "source": [
    "#on a Dataframe, a column aggregation function applies to all columns\n",
    "superstore.max()"
   ]
  },
  {
   "cell_type": "code",
   "execution_count": null,
   "metadata": {
    "colab": {
     "base_uri": "https://localhost:8080/",
     "height": 120
    },
    "id": "8rzxoNlRotbD",
    "outputId": "a35ddf6b-ae28-4d3e-cae5-e9189500aefb"
   },
   "outputs": [],
   "source": [
    "# but only on the columns where it makes sense\n",
    "superstore.mean()\n"
   ]
  },
  {
   "cell_type": "code",
   "execution_count": null,
   "metadata": {
    "colab": {
     "base_uri": "https://localhost:8080/",
     "height": 202
    },
    "id": "zs9VpU_R0bNE",
    "outputId": "030372d6-ebb4-44e7-980a-07b06915d480"
   },
   "outputs": [],
   "source": [
    "#We can do computations over columns\n",
    "superstore['Sales']/superstore['Quantity']\n",
    "\n",
    "# and store the result in a new column\n",
    "superstore['Unitary price'] = superstore['Sales']/superstore['Quantity']\n",
    "superstore[['Unitary price','Sales','Quantity']].head()\n",
    "\n",
    "# # we can also do comparisons\n",
    "superstore['Large sale'] = superstore['Sales']>100\n",
    "superstore[['Large sale','Sales']].head()\n"
   ]
  },
  {
   "cell_type": "markdown",
   "metadata": {
    "id": "87XwAsJg0bNG"
   },
   "source": [
    "# Filtering & boolean masks"
   ]
  },
  {
   "cell_type": "code",
   "execution_count": null,
   "metadata": {
    "colab": {
     "base_uri": "https://localhost:8080/",
     "height": 482
    },
    "id": "lDQu3LfgqscG",
    "outputId": "d16c55cd-4efc-41a4-9e3b-a7cf88fa3e04"
   },
   "outputs": [],
   "source": [
    "#a column like the one above (only True/False) is called a Boolean Mask\n",
    "#Boolean masks are very useful to filter rows in DataFrames\n",
    "# but we can use filters even if we do not turn our conditions into columns explicitly\n",
    "superstore['Sales']>100\n",
    "superstore[superstore['Sales']>100].head() # WHERE Sales > 100 LIMIT 5"
   ]
  },
  {
   "cell_type": "code",
   "execution_count": null,
   "metadata": {
    "id": "Yg_Wz6mexoqV"
   },
   "outputs": [],
   "source": [
    "# do it yourself\n",
    "# find the superstore row with the maximum sales\n",
    "\n",
    "\n",
    "\n",
    "\n",
    "\n",
    "\n"
   ]
  },
  {
   "cell_type": "code",
   "execution_count": null,
   "metadata": {
    "colab": {
     "base_uri": "https://localhost:8080/",
     "height": 151
    },
    "id": "_qGEZhvzwhas",
    "outputId": "d1cf1634-f953-4d09-f46b-50a5abf5d9a6"
   },
   "outputs": [],
   "source": [
    "#solution\n",
    "superstore[ superstore['Sales'] == superstore['Sales'].max() ]\n"
   ]
  },
  {
   "cell_type": "code",
   "execution_count": null,
   "metadata": {
    "colab": {
     "base_uri": "https://localhost:8080/",
     "height": 202
    },
    "id": "SM8v9l2N0bNL",
    "outputId": "e916dd04-ea3b-48ea-8616-9652de257d75"
   },
   "outputs": [],
   "source": [
    "#Boolean masks can also be combined by boolean operators (and, or, not), which in pandas are denoted by (&,|,~)\n",
    "\n",
    "superstore['Large Sales'] = superstore['Sales']>superstore['Sales'].mean()\n",
    "superstore['Large Quantity'] =superstore['Quantity']>5\n",
    "superstore['Salesmean'] = superstore['Sales'].mean()\n",
    "\n",
    "superstore[['Sales','Quantity','Salesmean','Large Sales','Large Quantity']].head()\n",
    "\n",
    "superstore['Large Quantity and Sales'] = (superstore['Quantity']>5) & (superstore['Sales']>superstore['Sales'].mean()) # & : AND\n",
    "superstore['Large Quantity or Sales'] = (superstore['Quantity']>5) | (superstore['Sales']>superstore['Sales'].mean())  # | : OR\n",
    "superstore['not Large Quantity'] = ~(superstore['Quantity']>5)                                                         # ~ : NOT\n",
    "\n",
    "superstore[['Sales','Quantity','Salesmean','Large Sales','Large Quantity','Large Quantity and Sales','Large Quantity or Sales','not Large Quantity']].head(10)\n"
   ]
  },
  {
   "cell_type": "code",
   "execution_count": null,
   "metadata": {
    "colab": {
     "base_uri": "https://localhost:8080/",
     "height": 499
    },
    "id": "pTB-3x4K0bNN",
    "outputId": "62a29be0-8862-40f1-806e-3a19ebfa2d9a"
   },
   "outputs": [],
   "source": [
    "#This means these combinations can be used in filters as well\n",
    "superstore[superstore['City']=='Lisbon']\n",
    "superstore[['Row ID', 'Ship Date', 'Segment']][superstore['City']=='Lisbon']\n",
    "\n",
    "superstore[(superstore['City']=='Lisbon')&(superstore['Segment']=='Corporate')]"
   ]
  },
  {
   "cell_type": "code",
   "execution_count": null,
   "metadata": {
    "id": "-R9OrqbTwz8H"
   },
   "outputs": [],
   "source": [
    "# interview question -> what condition typically returns more rows? and conditon vs or condition"
   ]
  },
  {
   "cell_type": "markdown",
   "metadata": {
    "id": "qgoEVptK0bNR"
   },
   "source": [
    "# Binning"
   ]
  },
  {
   "cell_type": "code",
   "execution_count": null,
   "metadata": {
    "colab": {
     "base_uri": "https://localhost:8080/",
     "height": 225
    },
    "id": "C5G2_5PWxrLn",
    "outputId": "2bb2b587-9482-47e8-c7d9-7ee3fc903891"
   },
   "outputs": [],
   "source": [
    "# changing a a numeric variable into a categorical one ('low', 'medium', 'high')\n",
    "# how to perform binning -> bins on a variable\n",
    "\n",
    "superstore['Sales']"
   ]
  },
  {
   "cell_type": "code",
   "execution_count": null,
   "metadata": {
    "colab": {
     "base_uri": "https://localhost:8080/",
     "height": 121
    },
    "id": "lFIEPmGPym-3",
    "outputId": "eeafde64-162b-4b87-ea7b-e8be88fbc413"
   },
   "outputs": [],
   "source": [
    "# cut in 5 equally spaced bins\n",
    "binnames = [\"Very Low\", \"Low\", \"Moderate\", \"High\", \"Very High\"]\n",
    "bins = pd.cut(superstore['Sales'],5, labels=binnames)\n",
    "bins\n",
    "superstore['BinnedSales'] = pd.cut(superstore['Sales'], 5, labels = binnames)\n",
    "superstore['BinnedSales'].value_counts()\n"
   ]
  },
  {
   "cell_type": "code",
   "execution_count": null,
   "metadata": {
    "colab": {
     "base_uri": "https://localhost:8080/",
     "height": 104
    },
    "id": "M8J9Q1Fa0bNX",
    "outputId": "a49963a2-6e3e-44a0-925c-21ccc5e2b746"
   },
   "outputs": [],
   "source": [
    "#check result\n",
    "print(superstore['Sales'].min())\n",
    "display(superstore['Sales'].max())\n",
    "print('size of bins = ', (superstore['Sales'].max()-superstore['Sales'].min())/5)\n",
    "display(superstore[superstore['Sales']<1591.125+2.955].shape)\n",
    "display(superstore[superstore['Sales']>7958.58-1591.125].shape)"
   ]
  },
  {
   "cell_type": "code",
   "execution_count": null,
   "metadata": {
    "colab": {
     "base_uri": "https://localhost:8080/",
     "height": 121
    },
    "id": "Vnb22kG6zI93",
    "outputId": "29269058-b091-4eca-feb8-61967c8fb30e"
   },
   "outputs": [],
   "source": [
    "import numpy as np\n",
    "# qcut in 5 equally filled bins. Why the imbalance? Repeated values\n",
    "qbins = pd.qcut(superstore['Sales'],5, labels = binnames)\n",
    "qbins.value_counts()\n",
    "\n",
    "# np.quantile(superstore['Sales'],0.20)\n",
    "# superstore[superstore['Sales']==41.64]"
   ]
  },
  {
   "cell_type": "code",
   "execution_count": null,
   "metadata": {
    "colab": {
     "base_uri": "https://localhost:8080/",
     "height": 121
    },
    "id": "W0gMS1op0bNc",
    "outputId": "146e1698-4677-4ecf-cdfb-f02db9e1c6da"
   },
   "outputs": [],
   "source": [
    "# cut in 5 designed bins\n",
    "bins = pd.cut(superstore['Sales'],[0,10,100,1000,2000,8000], labels = binnames)\n",
    "bins.value_counts(dropna=False)"
   ]
  },
  {
   "cell_type": "code",
   "execution_count": null,
   "metadata": {
    "colab": {
     "base_uri": "https://localhost:8080/",
     "height": 282
    },
    "id": "iJn4okLG8jsr",
    "outputId": "cb134587-8085-488e-8a7a-1b86ee2b3136"
   },
   "outputs": [],
   "source": [
    "%matplotlib inline\n",
    "superstore['Sales'].hist(bins=100)"
   ]
  },
  {
   "cell_type": "code",
   "execution_count": null,
   "metadata": {
    "id": "lu2q3E-Gycfn"
   },
   "outputs": [],
   "source": [
    "# do it yourself: create 3 equally spaced bins for profit\n",
    "# do it yourself: create one bin for negative profit and 3 equally sized/spaced bins for positive profits"
   ]
  },
  {
   "cell_type": "markdown",
   "metadata": {
    "id": "fkpXV6Rq0bNs"
   },
   "source": [
    "# Row operations - Apply"
   ]
  },
  {
   "cell_type": "code",
   "execution_count": null,
   "metadata": {
    "colab": {
     "base_uri": "https://localhost:8080/",
     "height": 513
    },
    "executionInfo": {
     "elapsed": 600,
     "status": "ok",
     "timestamp": 1617553596283,
     "user": {
      "displayName": "David Henriques",
      "photoUrl": "",
      "userId": "14332050621134291491"
     },
     "user_tz": -60
    },
    "id": "yLMiNA4hFawE",
    "outputId": "d4103208-3d46-4e40-f91b-4b20e7308189"
   },
   "outputs": [],
   "source": [
    "# We have seen we can make a function over all rows by combining columns\n",
    "superstore['profit ratio'] = superstore['Profit']/superstore['Sales']\n",
    "superstore.head()"
   ]
  },
  {
   "cell_type": "code",
   "execution_count": null,
   "metadata": {
    "colab": {
     "base_uri": "https://localhost:8080/",
     "height": 35
    },
    "executionInfo": {
     "elapsed": 642,
     "status": "ok",
     "timestamp": 1617553601042,
     "user": {
      "displayName": "David Henriques",
      "photoUrl": "",
      "userId": "14332050621134291491"
     },
     "user_tz": -60
    },
    "id": "b168DTvcFxcc",
    "outputId": "f8ac32a1-5a54-4073-e066-32b7f86bcc00"
   },
   "outputs": [],
   "source": [
    "# what if I want to perform more complicated operations on the rows?\n",
    "# I want to calculate if a row is not profitable (profit < 0), profitable (0=< profit < 100) or very profitable (profit>=100)\n",
    "\n",
    "# define a function that creates your logic\n",
    "# the input will be the value of the profit of each row\n",
    "\n",
    "def profitable(x):\n",
    "    if x<=0:\n",
    "        return 'Not Profitable'\n",
    "    elif x<100: \n",
    "        return 'Profitable'\n",
    "    else:\n",
    "        return 'Very Profitable'\n",
    "\n",
    "profitable(110)"
   ]
  },
  {
   "cell_type": "code",
   "execution_count": null,
   "metadata": {
    "id": "vjoIHlX7tU8q"
   },
   "outputs": [],
   "source": [
    "# we have an option already\n",
    "superstore['Profit-Flag'] = list(map(profitable,superstore['Profit']))\n",
    "superstore.head()"
   ]
  },
  {
   "cell_type": "code",
   "execution_count": null,
   "metadata": {
    "colab": {
     "base_uri": "https://localhost:8080/",
     "height": 513
    },
    "executionInfo": {
     "elapsed": 691,
     "status": "ok",
     "timestamp": 1617553699727,
     "user": {
      "displayName": "David Henriques",
      "photoUrl": "",
      "userId": "14332050621134291491"
     },
     "user_tz": -60
    },
    "id": "6LdYbL8AGlpV",
    "outputId": "61a2ee8c-32d6-4077-85d1-0fc5f2021cda"
   },
   "outputs": [],
   "source": [
    "#but we can use a more general method: apply\n",
    "superstore['Profit-Flag2'] = superstore['Profit'].apply(profitable)\n",
    "superstore.head()\n",
    "\n",
    "# the apply method, will apply the function given to each row in the dataframe, with the respective argument"
   ]
  },
  {
   "cell_type": "code",
   "execution_count": null,
   "metadata": {
    "id": "1BjxUAqxFJfN"
   },
   "outputs": [],
   "source": [
    "# What if I want a function that uses data from multiple columns?\n",
    "# For example I want to see if the delay between shipping and Ordering is larger than 7 days and flag the order as 'delayed' in that case\n",
    "\n",
    "# use a function that take a whole row as an argument\n",
    "\n",
    "#this is a good time to learn about dates and timestamps. You can find some info here:\n",
    "#https://docs.python.org/3/library/datetime.html\n",
    "from datetime import datetime\n",
    "from datetime import timedelta\n",
    "\n",
    "def delayed(row):\n",
    "    delay = datetime.strptime(row['Ship Date'],'%d/%m/%Y')-datetime.strptime(row['Order Date'],'%d/%m/%Y')\n",
    "    #essentially converts the date strings from the original table into internal time representations and computes the difference in times \n",
    "\n",
    "\n",
    "    if delay>timedelta(days=5):\n",
    "        #Timedelta represent a period of x days\n",
    "        return 'Delayed'\n",
    "    else:\n",
    "        return 'On-time'"
   ]
  },
  {
   "cell_type": "code",
   "execution_count": null,
   "metadata": {
    "colab": {
     "base_uri": "https://localhost:8080/",
     "height": 513
    },
    "executionInfo": {
     "elapsed": 1020,
     "status": "ok",
     "timestamp": 1617553717321,
     "user": {
      "displayName": "David Henriques",
      "photoUrl": "",
      "userId": "14332050621134291491"
     },
     "user_tz": -60
    },
    "id": "2IghDOhJ0bN1",
    "outputId": "fe1eaed3-1fa9-4393-b55b-8113a1a53145"
   },
   "outputs": [],
   "source": [
    "#to run your function over all rows, you haveve to pass along the argument \"axis=1\"\n",
    "superstore['Delayed?'] = superstore.apply(delayed, axis=1)\n",
    "superstore.head()"
   ]
  },
  {
   "cell_type": "code",
   "execution_count": null,
   "metadata": {
    "colab": {
     "base_uri": "https://localhost:8080/"
    },
    "executionInfo": {
     "elapsed": 702,
     "status": "ok",
     "timestamp": 1617553721841,
     "user": {
      "displayName": "David Henriques",
      "photoUrl": "",
      "userId": "14332050621134291491"
     },
     "user_tz": -60
    },
    "id": "_Oy-tEyI2M3k",
    "outputId": "da52a19a-2e90-44ff-d65a-ba8a1f1c0b02"
   },
   "outputs": [],
   "source": [
    "superstore['Delayed?'].value_counts()"
   ]
  },
  {
   "cell_type": "code",
   "execution_count": null,
   "metadata": {
    "colab": {
     "base_uri": "https://localhost:8080/"
    },
    "executionInfo": {
     "elapsed": 598,
     "status": "ok",
     "timestamp": 1617553725369,
     "user": {
      "displayName": "David Henriques",
      "photoUrl": "",
      "userId": "14332050621134291491"
     },
     "user_tz": -60
    },
    "id": "fyP7MTZA2dGz",
    "outputId": "005b9378-a4f9-450a-d8fa-e243378729bf"
   },
   "outputs": [],
   "source": [
    "superstore['Ship Mode'].value_counts()"
   ]
  },
  {
   "cell_type": "code",
   "execution_count": null,
   "metadata": {
    "id": "AQcU-SKFJ9z_"
   },
   "outputs": [],
   "source": [
    "#do it yourself: create a function that categorizes an order as \"Priority 1\" if \n",
    "# - the Segment is Corporate and ship mode is First or Second Class\n",
    "# - the ship mode is First Class\n",
    "#and \"Priority 2\" otherwise "
   ]
  },
  {
   "cell_type": "markdown",
   "metadata": {
    "id": "e0zabZkg0bN5"
   },
   "source": [
    "# Merging"
   ]
  },
  {
   "cell_type": "code",
   "execution_count": null,
   "metadata": {
    "id": "EdN5G8Z6NiZE"
   },
   "outputs": [],
   "source": [
    "# Merging is the way to combine information from multiple datasources.\n",
    "#It is functionally the same as JOIN from SQL, even in the names of the methods\n",
    "returns = pd.read_excel(\"Sample - EU Superstore.xlsx\", sheet_name = \"Returns\")"
   ]
  },
  {
   "cell_type": "code",
   "execution_count": null,
   "metadata": {
    "colab": {
     "base_uri": "https://localhost:8080/",
     "height": 204
    },
    "executionInfo": {
     "elapsed": 1101,
     "status": "ok",
     "timestamp": 1617553904752,
     "user": {
      "displayName": "David Henriques",
      "photoUrl": "",
      "userId": "14332050621134291491"
     },
     "user_tz": -60
    },
    "id": "G7Ypq_9jOhdC",
    "outputId": "70e5a992-db2f-409e-ba3b-e89ad39cc8ff"
   },
   "outputs": [],
   "source": [
    "returns"
   ]
  },
  {
   "cell_type": "code",
   "execution_count": null,
   "metadata": {},
   "outputs": [],
   "source": [
    "# SELECT *\n",
    "# FROM superstore\n",
    "# JOIN returns ON superstore.'Order ID' = returns.'Order ID'"
   ]
  },
  {
   "cell_type": "code",
   "execution_count": null,
   "metadata": {
    "colab": {
     "base_uri": "https://localhost:8080/",
     "height": 513
    },
    "executionInfo": {
     "elapsed": 996,
     "status": "ok",
     "timestamp": 1617553907981,
     "user": {
      "displayName": "David Henriques",
      "photoUrl": "",
      "userId": "14332050621134291491"
     },
     "user_tz": -60
    },
    "id": "H8GQl-UwOnOX",
    "outputId": "82566e84-7ddf-4281-e202-f2d7d509ebe3"
   },
   "outputs": [],
   "source": [
    "superstore.head()"
   ]
  },
  {
   "cell_type": "code",
   "execution_count": null,
   "metadata": {
    "colab": {
     "base_uri": "https://localhost:8080/",
     "height": 479
    },
    "executionInfo": {
     "elapsed": 1023,
     "status": "ok",
     "timestamp": 1617553923302,
     "user": {
      "displayName": "David Henriques",
      "photoUrl": "",
      "userId": "14332050621134291491"
     },
     "user_tz": -60
    },
    "id": "KKIWl8zg0bOA",
    "outputId": "1b93e2ca-6e95-40b2-f6c0-25d0e6de6488"
   },
   "outputs": [],
   "source": [
    "#if we want details only on the returned orders\n",
    "just_returned_details = pd.merge(left = superstore,\n",
    "                                 right = returns,\n",
    "                                 how = 'inner', \n",
    "                                 left_on = \"Order ID\", \n",
    "                                 right_on= \"Order ID\")\n",
    "just_returned_details\n",
    "just_returned_details[['Row ID',\n",
    " 'Order ID',\n",
    " 'Order Date',\n",
    " 'Ship Date',\n",
    " 'Ship Mode',\n",
    " 'Customer ID',\n",
    " 'Customer Name',\n",
    " 'Segment',\n",
    " 'City',\n",
    " 'State',\n",
    " 'Country',\n",
    " 'Region',\n",
    " 'Product ID',\n",
    " 'Category',\n",
    " 'Sub-Category',\n",
    " 'Product Name',\n",
    " 'Sales',\n",
    " 'Quantity',\n",
    " 'Discount',\n",
    " 'Profit','Returned']].shape"
   ]
  },
  {
   "cell_type": "code",
   "execution_count": null,
   "metadata": {},
   "outputs": [],
   "source": [
    "# SELECT *\n",
    "# FROM superstore\n",
    "# LEFT JOIN returns ON returns.'Order ID' = superstore.'Order ID'"
   ]
  },
  {
   "cell_type": "code",
   "execution_count": null,
   "metadata": {
    "colab": {
     "base_uri": "https://localhost:8080/",
     "height": 530
    },
    "executionInfo": {
     "elapsed": 893,
     "status": "ok",
     "timestamp": 1617553926313,
     "user": {
      "displayName": "David Henriques",
      "photoUrl": "",
      "userId": "14332050621134291491"
     },
     "user_tz": -60
    },
    "id": "wa88Mqb0O7RR",
    "outputId": "2a6c3362-0101-4a1b-f2cc-abd01d47ab1f"
   },
   "outputs": [],
   "source": [
    "# if we want to keep all orders, and just flag the returned ones, we can do a left merge\n",
    "just_returned_addition = pd.merge(left = superstore,\n",
    "                                  right = returns,\n",
    "                                  how = 'left', \n",
    "                                  left_on = \"Order ID\", \n",
    "                                  right_on= \"Order ID\")\n",
    "display(just_returned_addition.shape)\n",
    "just_returned_addition[['Row ID',\n",
    " 'Order ID',\n",
    " 'Order Date',\n",
    " 'Ship Date',\n",
    " 'Ship Mode',\n",
    " 'Customer ID',\n",
    " 'Customer Name',\n",
    " 'Segment',\n",
    " 'City',\n",
    " 'State',\n",
    " 'Country',\n",
    " 'Region',\n",
    " 'Product ID',\n",
    " 'Category',\n",
    " 'Sub-Category',\n",
    " 'Product Name',\n",
    " 'Sales',\n",
    " 'Quantity',\n",
    " 'Discount',\n",
    " 'Profit','Returned']].head()"
   ]
  },
  {
   "cell_type": "code",
   "execution_count": null,
   "metadata": {
    "id": "ABBT2W8duiTn"
   },
   "outputs": [],
   "source": [
    "just_returned_addition.Returned.value_counts(dropna=False)"
   ]
  },
  {
   "cell_type": "code",
   "execution_count": null,
   "metadata": {},
   "outputs": [],
   "source": [
    "just_returned_addition.Returned"
   ]
  },
  {
   "cell_type": "code",
   "execution_count": null,
   "metadata": {},
   "outputs": [],
   "source": []
  },
  {
   "cell_type": "code",
   "execution_count": null,
   "metadata": {},
   "outputs": [],
   "source": []
  }
 ],
 "metadata": {
  "colab": {
   "collapsed_sections": [
    "vOYnzEMf0bMt",
    "KXAZMbZq0bM8",
    "87XwAsJg0bNG",
    "qgoEVptK0bNR"
   ],
   "name": "L3.03.ipynb",
   "provenance": [],
   "toc_visible": true
  },
  "kernelspec": {
   "display_name": "Python 3 (ipykernel)",
   "language": "python",
   "name": "python3"
  },
  "language_info": {
   "codemirror_mode": {
    "name": "ipython",
    "version": 3
   },
   "file_extension": ".py",
   "mimetype": "text/x-python",
   "name": "python",
   "nbconvert_exporter": "python",
   "pygments_lexer": "ipython3",
   "version": "3.10.9"
  }
 },
 "nbformat": 4,
 "nbformat_minor": 1
}
