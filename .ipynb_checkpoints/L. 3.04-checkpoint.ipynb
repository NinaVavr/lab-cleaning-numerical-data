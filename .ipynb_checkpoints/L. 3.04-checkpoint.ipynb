{
 "cells": [
  {
   "cell_type": "code",
   "execution_count": 1,
   "metadata": {
    "id": "hRj0X8Y-gcCD"
   },
   "outputs": [],
   "source": [
    "import pandas as pd\n",
    "import numpy as np\n",
    "\n",
    "superstore = pd.read_csv(\"Sample - EU Superstore.csv\")"
   ]
  },
  {
   "cell_type": "markdown",
   "metadata": {},
   "source": [
    "# Grouping\n",
    "\n"
   ]
  },
  {
   "cell_type": "markdown",
   "metadata": {},
   "source": [
    "From a data analysis point of view there are two types of columns:\n",
    "\n",
    "- Dimensions -> categorical variables -> Segment, City, Country -> they cannot be aggregated using typical maths operators -> sum, doesnt work\n",
    "- Measures -> numerical variables -> can be aggregated\n",
    "\n",
    "We sometimes are able to turn measures into dimensions by binning e.g. low risk, medium, high, very high\n",
    "\n",
    "normally we represent measures as a function of dimensions -> sales per country, profit per state. This is done with group by"
   ]
  },
  {
   "cell_type": "markdown",
   "metadata": {},
   "source": [
    "## Groupby"
   ]
  },
  {
   "cell_type": "code",
   "execution_count": 2,
   "metadata": {},
   "outputs": [
    {
     "data": {
      "text/plain": [
       "Segment\n",
       "Consumer       1.529716e+06\n",
       "Corporate      9.200083e+05\n",
       "Home Office    4.883645e+05\n",
       "Name: Sales, dtype: float64"
      ]
     },
     "metadata": {},
     "output_type": "display_data"
    },
    {
     "data": {
      "text/html": [
       "<div>\n",
       "<style scoped>\n",
       "    .dataframe tbody tr th:only-of-type {\n",
       "        vertical-align: middle;\n",
       "    }\n",
       "\n",
       "    .dataframe tbody tr th {\n",
       "        vertical-align: top;\n",
       "    }\n",
       "\n",
       "    .dataframe thead th {\n",
       "        text-align: right;\n",
       "    }\n",
       "</style>\n",
       "<table border=\"1\" class=\"dataframe\">\n",
       "  <thead>\n",
       "    <tr style=\"text-align: right;\">\n",
       "      <th></th>\n",
       "      <th>Sales</th>\n",
       "    </tr>\n",
       "    <tr>\n",
       "      <th>Segment</th>\n",
       "      <th></th>\n",
       "    </tr>\n",
       "  </thead>\n",
       "  <tbody>\n",
       "    <tr>\n",
       "      <th>Consumer</th>\n",
       "      <td>1.529716e+06</td>\n",
       "    </tr>\n",
       "    <tr>\n",
       "      <th>Corporate</th>\n",
       "      <td>9.200083e+05</td>\n",
       "    </tr>\n",
       "    <tr>\n",
       "      <th>Home Office</th>\n",
       "      <td>4.883645e+05</td>\n",
       "    </tr>\n",
       "  </tbody>\n",
       "</table>\n",
       "</div>"
      ],
      "text/plain": [
       "                    Sales\n",
       "Segment                  \n",
       "Consumer     1.529716e+06\n",
       "Corporate    9.200083e+05\n",
       "Home Office  4.883645e+05"
      ]
     },
     "metadata": {},
     "output_type": "display_data"
    },
    {
     "data": {
      "text/html": [
       "<div>\n",
       "<style scoped>\n",
       "    .dataframe tbody tr th:only-of-type {\n",
       "        vertical-align: middle;\n",
       "    }\n",
       "\n",
       "    .dataframe tbody tr th {\n",
       "        vertical-align: top;\n",
       "    }\n",
       "\n",
       "    .dataframe thead th {\n",
       "        text-align: right;\n",
       "    }\n",
       "</style>\n",
       "<table border=\"1\" class=\"dataframe\">\n",
       "  <thead>\n",
       "    <tr style=\"text-align: right;\">\n",
       "      <th></th>\n",
       "      <th></th>\n",
       "      <th>Sales</th>\n",
       "      <th>Order Date</th>\n",
       "      <th>Customer ID</th>\n",
       "    </tr>\n",
       "    <tr>\n",
       "      <th>Segment</th>\n",
       "      <th>State</th>\n",
       "      <th></th>\n",
       "      <th></th>\n",
       "      <th></th>\n",
       "    </tr>\n",
       "  </thead>\n",
       "  <tbody>\n",
       "    <tr>\n",
       "      <th rowspan=\"5\" valign=\"top\">Consumer</th>\n",
       "      <th>Abruzzi</th>\n",
       "      <td>3851.8800</td>\n",
       "      <td>04/06/2017</td>\n",
       "      <td>4</td>\n",
       "    </tr>\n",
       "    <tr>\n",
       "      <th>Alsace-Champagne-Ardenne-Lorraine</th>\n",
       "      <td>20664.8715</td>\n",
       "      <td>01/09/2015</td>\n",
       "      <td>44</td>\n",
       "    </tr>\n",
       "    <tr>\n",
       "      <th>Andalusía</th>\n",
       "      <td>18270.4350</td>\n",
       "      <td>01/02/2016</td>\n",
       "      <td>31</td>\n",
       "    </tr>\n",
       "    <tr>\n",
       "      <th>Antwerp</th>\n",
       "      <td>7899.0900</td>\n",
       "      <td>01/01/2016</td>\n",
       "      <td>9</td>\n",
       "    </tr>\n",
       "    <tr>\n",
       "      <th>Apulia</th>\n",
       "      <td>12537.0000</td>\n",
       "      <td>02/02/2016</td>\n",
       "      <td>23</td>\n",
       "    </tr>\n",
       "    <tr>\n",
       "      <th>...</th>\n",
       "      <th>...</th>\n",
       "      <td>...</td>\n",
       "      <td>...</td>\n",
       "      <td>...</td>\n",
       "    </tr>\n",
       "    <tr>\n",
       "      <th rowspan=\"5\" valign=\"top\">Home Office</th>\n",
       "      <th>Valenciana</th>\n",
       "      <td>7638.7290</td>\n",
       "      <td>02/12/2014</td>\n",
       "      <td>11</td>\n",
       "    </tr>\n",
       "    <tr>\n",
       "      <th>Veneto</th>\n",
       "      <td>602.4120</td>\n",
       "      <td>04/08/2015</td>\n",
       "      <td>5</td>\n",
       "    </tr>\n",
       "    <tr>\n",
       "      <th>Vienna</th>\n",
       "      <td>11763.0600</td>\n",
       "      <td>01/10/2017</td>\n",
       "      <td>19</td>\n",
       "    </tr>\n",
       "    <tr>\n",
       "      <th>Wales</th>\n",
       "      <td>2453.0400</td>\n",
       "      <td>05/05/2015</td>\n",
       "      <td>6</td>\n",
       "    </tr>\n",
       "    <tr>\n",
       "      <th>Zürich</th>\n",
       "      <td>1340.0400</td>\n",
       "      <td>01/11/2014</td>\n",
       "      <td>2</td>\n",
       "    </tr>\n",
       "  </tbody>\n",
       "</table>\n",
       "<p>319 rows × 3 columns</p>\n",
       "</div>"
      ],
      "text/plain": [
       "                                                    Sales  Order Date  \\\n",
       "Segment     State                                                       \n",
       "Consumer    Abruzzi                             3851.8800  04/06/2017   \n",
       "            Alsace-Champagne-Ardenne-Lorraine  20664.8715  01/09/2015   \n",
       "            Andalusía                          18270.4350  01/02/2016   \n",
       "            Antwerp                             7899.0900  01/01/2016   \n",
       "            Apulia                             12537.0000  02/02/2016   \n",
       "...                                                   ...         ...   \n",
       "Home Office Valenciana                          7638.7290  02/12/2014   \n",
       "            Veneto                               602.4120  04/08/2015   \n",
       "            Vienna                             11763.0600  01/10/2017   \n",
       "            Wales                               2453.0400  05/05/2015   \n",
       "            Zürich                              1340.0400  01/11/2014   \n",
       "\n",
       "                                               Customer ID  \n",
       "Segment     State                                           \n",
       "Consumer    Abruzzi                                      4  \n",
       "            Alsace-Champagne-Ardenne-Lorraine           44  \n",
       "            Andalusía                                   31  \n",
       "            Antwerp                                      9  \n",
       "            Apulia                                      23  \n",
       "...                                                    ...  \n",
       "Home Office Valenciana                                  11  \n",
       "            Veneto                                       5  \n",
       "            Vienna                                      19  \n",
       "            Wales                                        6  \n",
       "            Zürich                                       2  \n",
       "\n",
       "[319 rows x 3 columns]"
      ]
     },
     "execution_count": 2,
     "metadata": {},
     "output_type": "execute_result"
    }
   ],
   "source": [
    "# Group by similar to SQL, but with a lot of flexibility\n",
    "# groupby(the dimensions you want to group by).agg({measure(s) to aggregate: aggegation function(s)})\n",
    "\n",
    "superstore.groupby(['Segment']).agg({'Sales':sum,'Order Date':min})\n",
    "\n",
    "#alternatively, if we only have one column we can use the alternative syntax\n",
    "\n",
    "display(superstore.groupby(['Segment'])['Sales'].agg(sum))\n",
    "display(superstore.groupby(['Segment']).agg({'Sales':sum}))\n",
    "\n",
    "\n",
    "\n",
    "# grouped by dimensions become the new index!!\n",
    "\n",
    "superstore.groupby(['Segment','State']).agg({'Sales':sum,'Order Date':min,'Customer ID':pd.Series.nunique})\n"
   ]
  },
  {
   "cell_type": "code",
   "execution_count": null,
   "metadata": {},
   "outputs": [],
   "source": [
    "#Multi-indexes can be hard to manage\n",
    "#Tip, you can turn the index back into columns by using reset_index()\n",
    "superstore.groupby(['Segment','State']).agg({'Sales':sum,'Order Date':min,'Customer ID':pd.Series.nunique}).reset_index()\n"
   ]
  },
  {
   "cell_type": "code",
   "execution_count": null,
   "metadata": {},
   "outputs": [],
   "source": [
    "# what if I want to define my own aggregation operation?\n",
    "# you define your own aggregation function\n",
    "\n",
    "def range_aggregation(x):\n",
    "    return max(x) - min(x)\n",
    "\n",
    "range_aggregation([2,4,6,8,10]) \n"
   ]
  },
  {
   "cell_type": "code",
   "execution_count": null,
   "metadata": {},
   "outputs": [],
   "source": [
    "superstore.groupby('Segment')"
   ]
  },
  {
   "cell_type": "code",
   "execution_count": null,
   "metadata": {},
   "outputs": [],
   "source": [
    "# perform your usual group by, but then in the aggregation method, call the function you just defined\n",
    "superstore.groupby('Segment')['Sales'].agg(range_aggregation)\n",
    "superstore.groupby(['Segment','State']).agg({'Sales':sum,'Profit':range_aggregation}).reset_index().head()\n"
   ]
  },
  {
   "cell_type": "code",
   "execution_count": null,
   "metadata": {},
   "outputs": [],
   "source": [
    "#do it yourself: find the average profit and total Sales per shipping mode"
   ]
  },
  {
   "cell_type": "markdown",
   "metadata": {},
   "source": [
    "### Pivot Tables"
   ]
  },
  {
   "cell_type": "markdown",
   "metadata": {
    "id": "E3iJ2yqaTPj3"
   },
   "source": [
    "For those familiar with Excel, there is a function named <b>pivot_table</b>,\n",
    "which does something very similar, but with a familiar interface"
   ]
  },
  {
   "cell_type": "code",
   "execution_count": null,
   "metadata": {
    "colab": {
     "base_uri": "https://localhost:8080/",
     "height": 551
    },
    "id": "DQgWfMzhTPnE",
    "outputId": "544847b2-1e31-49b9-e3f2-3ceb76f16c39"
   },
   "outputs": [],
   "source": [
    "superstore = pd.read_excel('Sample - Superstore.xls')\n",
    "superstore.head()"
   ]
  },
  {
   "cell_type": "code",
   "execution_count": null,
   "metadata": {
    "colab": {
     "base_uri": "https://localhost:8080/",
     "height": 171
    },
    "id": "fwP-WOnGpjYV",
    "outputId": "3586050a-00a3-4c88-83bf-f6e45fc9348d"
   },
   "outputs": [],
   "source": [
    "# Let's make \"Category\" into an index, there are plenty of repetitions of those\n",
    "superstore.pivot_table(index= ['Category'])\n",
    "#superstore.pivot_table(index= ['Category'], sort=False)\n",
    "\n",
    "# we can see that:\n",
    "# pandas did a group by Category\n",
    "# it kept only the numeric columns\n",
    "# then aggregated the results for those with the mean, which is his default aggregation"
   ]
  },
  {
   "cell_type": "code",
   "execution_count": null,
   "metadata": {
    "colab": {
     "base_uri": "https://localhost:8080/",
     "height": 239
    },
    "id": "vf543TLSVpFb",
    "outputId": "aa63a520-f160-4988-cd76-34e3b5cedf6b"
   },
   "outputs": [],
   "source": [
    "# we can also add an index to columns, like in standard pivot\n",
    "superstore.pivot_table(index= ['Category'],columns=['Region'])"
   ]
  },
  {
   "cell_type": "code",
   "execution_count": null,
   "metadata": {
    "colab": {
     "base_uri": "https://localhost:8080/",
     "height": 447
    },
    "id": "mSwt-PWWXATE",
    "outputId": "e906cdef-71ef-4608-b522-2ca1d83f66c4"
   },
   "outputs": [],
   "source": [
    "# Or we can do the same pivot all in the rows\n",
    "superstore.pivot_table(index= ['Category','Region'])"
   ]
  },
  {
   "cell_type": "code",
   "execution_count": null,
   "metadata": {
    "colab": {
     "base_uri": "https://localhost:8080/",
     "height": 417
    },
    "id": "-4qBBqxvXNuW",
    "outputId": "26477c4e-3661-4664-d9b4-0c6903520f1c"
   },
   "outputs": [],
   "source": [
    "# tip: you can get rid of the multi-index with .reset_index()\n",
    "superstore.pivot_table(index= ['Category','Region']).reset_index()"
   ]
  },
  {
   "cell_type": "code",
   "execution_count": null,
   "metadata": {
    "colab": {
     "base_uri": "https://localhost:8080/",
     "height": 447
    },
    "id": "ZcAQypi4riW6",
    "outputId": "cff333f4-b6e3-488a-a449-77775b2de9cb"
   },
   "outputs": [],
   "source": [
    "#you can select only a subset of columns to keep the values of\n",
    "superstore.pivot_table(index= ['Category','Region'], values = ['Sales','Profit','Discount']).reset_index()"
   ]
  },
  {
   "cell_type": "code",
   "execution_count": null,
   "metadata": {
    "colab": {
     "base_uri": "https://localhost:8080/",
     "height": 478
    },
    "id": "u0qKQIrfr128",
    "outputId": "d818cbe2-b84a-4707-befa-d0b2dd8543f7"
   },
   "outputs": [],
   "source": [
    "# and you can pick one or more aggregations\n",
    "superstore.pivot_table(index= ['Category','Region'], values = ['Sales','Profit'], aggfunc = ['sum','mean'])\n",
    "df = superstore.pivot_table(index= ['Category','Region'], values = ['Sales','Profit'], aggfunc = {'Sales':['sum','mean'],'Profit':'mean'}).reset_index()\n",
    "df.head()\n",
    "df.columns = ['Category','Region', 'MeanProfit', 'MeanSales', 'TotalSales']\n",
    "df"
   ]
  },
  {
   "cell_type": "code",
   "execution_count": null,
   "metadata": {
    "colab": {
     "base_uri": "https://localhost:8080/",
     "height": 447
    },
    "id": "kD0ypUpmXiQt",
    "outputId": "02a37bd0-5912-4c02-eaf8-dd0cc69a3d41"
   },
   "outputs": [],
   "source": [
    "# finally, we have only been using numeric aggregations, therefore only numeric columns show up \n",
    "# but if you use aggregations that work on other datatypes, they are also output\n",
    "superstore.pivot_table(index= ['Category','Region'], aggfunc = ['max','mean']).head(5)"
   ]
  },
  {
   "cell_type": "code",
   "execution_count": null,
   "metadata": {},
   "outputs": [],
   "source": []
  },
  {
   "cell_type": "code",
   "execution_count": null,
   "metadata": {},
   "outputs": [],
   "source": []
  },
  {
   "cell_type": "code",
   "execution_count": null,
   "metadata": {},
   "outputs": [],
   "source": [
    "### content below not used in lesson\n",
    "### left in as a refresher for people who need melt and/or pivot (not pivot_table)"
   ]
  },
  {
   "cell_type": "code",
   "execution_count": null,
   "metadata": {
    "id": "P4d6TQKp3kdb"
   },
   "outputs": [],
   "source": [
    "# For some applications (like data visualization) we will want information to be verticalized, so we can filter on column values\n",
    "# the typical example here is the calendar\n",
    "\n",
    "\n",
    "data = pd.read_excel('Total_sales_month.xls')\n",
    "data\n",
    "#We may want to filter by month, for example, or by quarter, or group by month, or sum all Januaries in a decade. All of these are easier to do if the months are in a column than accross multiple"
   ]
  },
  {
   "cell_type": "code",
   "execution_count": null,
   "metadata": {},
   "outputs": [],
   "source": [
    "data[['Product Name', 'Jan', 'Feb', 'Mar']]"
   ]
  },
  {
   "cell_type": "code",
   "execution_count": null,
   "metadata": {},
   "outputs": [],
   "source": [
    "data.shape"
   ]
  },
  {
   "cell_type": "code",
   "execution_count": null,
   "metadata": {
    "id": "3dvzUd_o3kgS"
   },
   "outputs": [],
   "source": [
    "#pd.melt( data to melt, columns to keep)\n",
    "verticalized = pd.melt(data,id_vars=['Product Name'])\n",
    "verticalized\n",
    "verticalized[verticalized['Product Name']== 'Bush Somerset Collection Bookcase']\n",
    "verticalized = verticalized.rename(columns={'variable':'Month','value':'Sales'})\n",
    "display(verticalized.head())\n",
    "display(verticalized.tail())"
   ]
  },
  {
   "cell_type": "code",
   "execution_count": null,
   "metadata": {},
   "outputs": [],
   "source": [
    "22092/12"
   ]
  },
  {
   "cell_type": "code",
   "execution_count": null,
   "metadata": {
    "id": "TMeXKHMB4Wjb"
   },
   "outputs": [],
   "source": [
    "verticalized.to_excel('verticalized_products.xlsx', index=False)"
   ]
  },
  {
   "cell_type": "code",
   "execution_count": null,
   "metadata": {
    "id": "aicXjHjv3pa6"
   },
   "outputs": [],
   "source": [
    "# try to plot the evolution of customizable portfolios of stocks from the file 'stock_prices_1yr.xls' "
   ]
  },
  {
   "cell_type": "code",
   "execution_count": null,
   "metadata": {
    "colab": {
     "base_uri": "https://localhost:8080/",
     "height": 305
    },
    "executionInfo": {
     "elapsed": 824,
     "status": "ok",
     "timestamp": 1617712730511,
     "user": {
      "displayName": "David Henriques",
      "photoUrl": "",
      "userId": "14332050621134291491"
     },
     "user_tz": -60
    },
    "id": "lTOBVhG_4cnk",
    "outputId": "b3b17fbd-0efd-4666-cf9b-10bee8624970"
   },
   "outputs": [],
   "source": [
    "data = pd.read_excel('Stock_prices_1yr.xls')\n",
    "data.head()"
   ]
  },
  {
   "cell_type": "code",
   "execution_count": null,
   "metadata": {
    "id": "YFYbcDqkMXqw"
   },
   "outputs": [],
   "source": [
    "import matplotlib.pyplot as plt"
   ]
  },
  {
   "cell_type": "code",
   "execution_count": null,
   "metadata": {},
   "outputs": [],
   "source": [
    "data.dtypes"
   ]
  },
  {
   "cell_type": "code",
   "execution_count": null,
   "metadata": {
    "colab": {
     "base_uri": "https://localhost:8080/",
     "height": 283
    },
    "executionInfo": {
     "elapsed": 979,
     "status": "ok",
     "timestamp": 1617712791104,
     "user": {
      "displayName": "David Henriques",
      "photoUrl": "",
      "userId": "14332050621134291491"
     },
     "user_tz": -60
    },
    "id": "qbj0fqpwMVfx",
    "outputId": "d1afc591-2df0-4863-d6cb-6a911ba00e6c"
   },
   "outputs": [],
   "source": [
    "plt.plot(data['Date'],data['FGU']) # have to use stock name as a column name here"
   ]
  },
  {
   "cell_type": "code",
   "execution_count": null,
   "metadata": {},
   "outputs": [],
   "source": []
  },
  {
   "cell_type": "code",
   "execution_count": null,
   "metadata": {
    "colab": {
     "base_uri": "https://localhost:8080/",
     "height": 379
    },
    "executionInfo": {
     "elapsed": 1001,
     "status": "ok",
     "timestamp": 1617712807368,
     "user": {
      "displayName": "David Henriques",
      "photoUrl": "",
      "userId": "14332050621134291491"
     },
     "user_tz": -60
    },
    "id": "sq9kq5V_4cuK",
    "outputId": "57bbdc26-be51-4283-c237-8f7d2099bd79"
   },
   "outputs": [],
   "source": [
    "verticalized = pd.melt(data,id_vars=['Date']) # prefer to use stock name as something we can select on\n",
    "display(verticalized.head())\n",
    "display(verticalized.tail())\n",
    "# Now we can say simethng like:\n",
    "verticalized[verticalized['variable'].isin(['TSW','FGU'])]"
   ]
  },
  {
   "cell_type": "code",
   "execution_count": null,
   "metadata": {},
   "outputs": [],
   "source": [
    "# plt.plot(verticalized[verticalized['variable'=='TSW']]['Date'],verticalized[verticalized['variable'=='TSW']]['value'])\n",
    "# plt.plot(verticalized[verticalized['variable'=='TSW']]['Date'],verticalized[verticalized['variable'=='FGU']]['value'])\n"
   ]
  },
  {
   "cell_type": "code",
   "execution_count": null,
   "metadata": {
    "colab": {
     "base_uri": "https://localhost:8080/",
     "height": 202
    },
    "id": "G3CwfVVUJj1x",
    "outputId": "9239df54-6322-4c98-8d7b-4045338d9c5c"
   },
   "outputs": [],
   "source": [
    "# Pivoting is the inverse of melting.\n",
    "# When you melt you turn multiple column names into the values of a single column\n",
    "# When you pivot you turn the values of a column into new column names\n",
    "superstore_products = pd.read_excel('verticalized_products.xlsx')\n",
    "superstore_products.head()"
   ]
  },
  {
   "cell_type": "code",
   "execution_count": null,
   "metadata": {},
   "outputs": [],
   "source": [
    "#superstore_products['year'] = 2020"
   ]
  },
  {
   "cell_type": "code",
   "execution_count": null,
   "metadata": {},
   "outputs": [],
   "source": [
    "superstore_products.head()"
   ]
  },
  {
   "cell_type": "code",
   "execution_count": null,
   "metadata": {
    "colab": {
     "base_uri": "https://localhost:8080/",
     "height": 233
    },
    "id": "aqZWXxbtPayX",
    "outputId": "549f754d-8e1d-4722-e7a7-12fde3eb24da"
   },
   "outputs": [],
   "source": [
    "# The syntax is \n",
    "# in the index argument you put the columns you want to keep\n",
    "# in the columns argument you put the columns whose values you want to make into columns\n",
    "dataset=superstore_products.pivot(index=['Product Name'],columns='Month').reset_index()\n",
    "dataset.head()"
   ]
  },
  {
   "cell_type": "code",
   "execution_count": null,
   "metadata": {
    "colab": {
     "base_uri": "https://localhost:8080/"
    },
    "id": "tBEe8pyMDURq",
    "outputId": "97a84142-a6df-4e4a-e5f5-c9970e936e95"
   },
   "outputs": [],
   "source": [
    "# using an aggregate column index:\n",
    "dataset[[('Product Name', ''),('Sales','Jan'),('Sales','Feb'),('Sales','Mar')]]"
   ]
  },
  {
   "cell_type": "code",
   "execution_count": null,
   "metadata": {},
   "outputs": [],
   "source": [
    "dataset.columns"
   ]
  },
  {
   "cell_type": "code",
   "execution_count": null,
   "metadata": {
    "colab": {
     "base_uri": "https://localhost:8080/",
     "height": 202
    },
    "id": "G5G-4xCSQZhB",
    "outputId": "58acaa8a-221f-4ad5-ca8d-b6f9fd1c8570"
   },
   "outputs": [],
   "source": [
    "# you can have more than one remaining columns, but that will generate a multi-index\n",
    "superstore_products['Sales (k)'] = superstore_products['Sales']/1000\n",
    "superstore_products.head()"
   ]
  },
  {
   "cell_type": "code",
   "execution_count": null,
   "metadata": {
    "colab": {
     "base_uri": "https://localhost:8080/",
     "height": 547
    },
    "id": "c0XZQE01QucX",
    "outputId": "e580fc6b-9bf7-4c82-fb88-ae08c3d444a4"
   },
   "outputs": [],
   "source": [
    "superstore_products.pivot(index='Product Name',columns='Month').head()\n",
    "# this multi index stuff looks complicated but really is not. The column names are now\n",
    "# ('Sales','Jan')...('Sales','Dec'),('Sales (k)','Jan'),...,('Sales (k)','Dec')\n",
    "\n",
    "# rename, then reorder the columns:\n",
    "# s_p.columns = ['Sales_Apr', 'Sales_Aug', ...]\n",
    "# s_p = s_p[['Sales_Jan', 'Sales_Feb', ...]]"
   ]
  },
  {
   "cell_type": "code",
   "execution_count": null,
   "metadata": {
    "id": "rDzd402kucOj"
   },
   "outputs": [],
   "source": []
  },
  {
   "cell_type": "code",
   "execution_count": null,
   "metadata": {},
   "outputs": [],
   "source": []
  }
 ],
 "metadata": {
  "colab": {
   "collapsed_sections": [],
   "name": "L3.04.ipynb",
   "provenance": []
  },
  "kernelspec": {
   "display_name": "Python 3 (ipykernel)",
   "language": "python",
   "name": "python3"
  },
  "language_info": {
   "codemirror_mode": {
    "name": "ipython",
    "version": 3
   },
   "file_extension": ".py",
   "mimetype": "text/x-python",
   "name": "python",
   "nbconvert_exporter": "python",
   "pygments_lexer": "ipython3",
   "version": "3.10.9"
  }
 },
 "nbformat": 4,
 "nbformat_minor": 1
}
